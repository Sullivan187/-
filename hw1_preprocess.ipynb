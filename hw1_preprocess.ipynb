{
 "cells": [
  {
   "cell_type": "code",
   "execution_count": 1,
   "metadata": {},
   "outputs": [],
   "source": [
    "import numpy as np\n",
    "import pandas as pd\n",
    "pd.set_option('max_columns', 165)\n",
    "pd.set_option('max_row', 100)"
   ]
  },
  {
   "cell_type": "code",
   "execution_count": 2,
   "metadata": {},
   "outputs": [],
   "source": [
    "def load_data():\n",
    "    train = pd.read_csv('D:/WorkSpace/HomeWork/hw1/train.csv', encoding='utf-8', header = 0)\n",
    "    train = pd.merge(pd.DataFrame(train.iloc[:, 0]), train.iloc[:, 2:], left_index=True, right_index = True)\n",
    "    test = pd.read_csv('D:/WorkSpace/HomeWork/hw1/test.csv', encoding='utf-8', header = 'infer')\n",
    "    return train, test"
   ]
  },
  {
   "cell_type": "code",
   "execution_count": 3,
   "metadata": {},
   "outputs": [],
   "source": [
    "def data_reshape(data):\n",
    "    #将数据集重新堆叠为行表示时间，列表示各个特征\n",
    "    for i in range(240):\n",
    "        start = i*18\n",
    "        end = start+18\n",
    "        if i == 0:\n",
    "            trans_data = data.iloc[start:end, :].T.iloc[2:, :]\n",
    "        else:\n",
    "            join = data.iloc[start:end].T.iloc[2:, :]\n",
    "            join.columns = trans_data.columns\n",
    "            trans_data = pd.concat((trans_data, join))\n",
    "            \n",
    "    trans_data = trans_data.reset_index(drop=True)\n",
    "    trans_data.columns = data.iloc[0:18, 1].values\n",
    "    trans_data.RAINFALL[trans_data.RAINFALL == 'NR'] = '0'             #将不下雨定义为降水量0\n",
    "    \n",
    "    for name in trans_data.columns:\n",
    "        trans_data[name] = trans_data[name].astype(np.float32)\n",
    "    \n",
    "    return trans_data"
   ]
  },
  {
   "cell_type": "code",
   "execution_count": 4,
   "metadata": {},
   "outputs": [],
   "source": [
    "def train_transform(data):\n",
    "    data.iloc[:, 0] = pd.to_datetime(data.iloc[:, 0], format = '%Y.%m.%d')\n",
    "    trans_data = data_reshape(data)\n",
    "    \n",
    "    #将数据变形，由于测试集中用前9个时间段来预测当前时间的pm2.5值，所以将前9个时间段的各个特征数据全部作为特征列\n",
    "    #由于训练集给的是每个月的前20天的24个小时，即第480行与第481行数据的观察时间不是连续的，所以需要将每个月的数据分开拼接\n",
    "    size = 480\n",
    "    for sub in range(12):\n",
    "        start = sub * size\n",
    "        end = min(start + size, trans_data.shape[0])\n",
    "        sub_data = trans_data.iloc[start:end, :]           #每个月的数据是一个单独的sub_data\n",
    "        \n",
    "        for i in range(9, 480):\n",
    "            b = sub_data.iloc[i,:]\n",
    "            \n",
    "            for j in range(9):\n",
    "                c = sub_data.iloc[i-1-j, :]\n",
    "                b = pd.concat((b, c))\n",
    "                \n",
    "            b = pd.DataFrame(b).T\n",
    "            a = b if i == 9 else pd.concat((a, b))\n",
    "        \n",
    "        new_data = a if sub == 0 else pd.concat((new_data, a))\n",
    "    \n",
    "    #将当前时间的PM2.5数值作为label， 其他信息删除\n",
    "    train_x = new_data.iloc[:, 18:180]\n",
    "    train_y = pd.DataFrame(new_data.iloc[:, 9])\n",
    "    print('feature.shape = ' + str(train_x.shape))\n",
    "    print('label.shape = ' + str(train_y.shape))\n",
    "    return train_x, train_y"
   ]
  },
  {
   "cell_type": "code",
   "execution_count": 5,
   "metadata": {},
   "outputs": [],
   "source": [
    "def test_transform(data):\n",
    "    trans_data = data_reshape(data)\n",
    "    #经过转换后，测试集中每9行表示一个时间点的数据，其中第1行表示n-9的时间点，第2行表示n-8的时间点，以此类推\n",
    "    size = 9\n",
    "    for i in range(np.int(trans_data.shape[0]/size)):\n",
    "        start = i * size\n",
    "        end = start + size\n",
    "        sub_data = trans_data.iloc[start:end, :]\n",
    "        sub_data = sub_data.reset_index(drop=True)\n",
    "        \n",
    "        for j in list(reversed(range(9))):\n",
    "            b = sub_data.iloc[j,:]\n",
    "            a = b if j == 8 else pd.concat((a, b))\n",
    "            \n",
    "        a = pd.DataFrame(a).T\n",
    "        test_x = a if i == 0 else pd.concat((test_x, a))\n",
    "    test_x = test_x.reset_index(drop=True)\n",
    "    print(test_x.shape)\n",
    "    return test_x"
   ]
  },
  {
   "cell_type": "code",
   "execution_count": 6,
   "metadata": {},
   "outputs": [
    {
     "name": "stdout",
     "output_type": "stream",
     "text": [
      "feature.shape = (5652, 162)\n",
      "label.shape = (5652, 1)\n"
     ]
    }
   ],
   "source": [
    "train, test = load_data()\n",
    "train_x, train_y = train_transform(train)\n",
    "test_x = test_transform(test)\n",
    "train_x.to_csv('D:/WorkSpace/HomeWork/hw1/train_x.csv', index = False)\n",
    "train_y.to_csv('D:/WorkSpace/HomeWork/hw1/train_y.csv', index = False)\n",
    "test_x.to_csv('D:/WorkSpace/HomeWork/hw1/test_x.csv', index = False)"
   ]
  },
  {
   "cell_type": "code",
   "execution_count": null,
   "metadata": {},
   "outputs": [],
   "source": []
  }
 ],
 "metadata": {
  "kernelspec": {
   "display_name": "Python 3",
   "language": "python",
   "name": "python3"
  },
  "language_info": {
   "codemirror_mode": {
    "name": "ipython",
    "version": 3
   },
   "file_extension": ".py",
   "mimetype": "text/x-python",
   "name": "python",
   "nbconvert_exporter": "python",
   "pygments_lexer": "ipython3",
   "version": "3.6.6"
  }
 },
 "nbformat": 4,
 "nbformat_minor": 2
}
