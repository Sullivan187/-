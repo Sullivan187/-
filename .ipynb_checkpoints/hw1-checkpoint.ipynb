{
 "cells": [
  {
   "cell_type": "code",
   "execution_count": 1,
   "metadata": {},
   "outputs": [],
   "source": [
    "import numpy as np\n",
    "import pandas as pd"
   ]
  },
  {
   "cell_type": "code",
   "execution_count": 4,
   "metadata": {},
   "outputs": [],
   "source": [
    "def load_data():\n",
    "    train = pd.read_csv('D:/WorkSpace/HomeWork/hw1/train.csv', encoding='utf-8', header = 0)\n",
    "    train = pd.merge(pd.DataFrame(train.iloc[:, 0]), train.iloc[:, 2:], left_index=True, right_index = True)\n",
    "    test = pd.read_csv('D:/WorkSpace/HomeWork/hw1/test.csv', encoding='utf-8', header = 'infer')\n",
    "    pd.set_option('max_columns', 30)\n",
    "    pd.set_option('max_row', 100)\n",
    "    return train, test"
   ]
  },
  {
   "cell_type": "code",
   "execution_count": 5,
   "metadata": {},
   "outputs": [],
   "source": [
    "def train_transform(data):\n",
    "    data.iloc[:, 0] = pd.to_datetime(data.iloc[:, 0], format = '%Y.%m.%d')\n",
    "    #将数据集重新堆叠为行表示时间，列表示各个特征\n",
    "    for i in range(240):\n",
    "        start = i*18\n",
    "        end = start+18\n",
    "        if i == 0:\n",
    "            trans_data = data.iloc[start:end, :].T.iloc[2:, :]\n",
    "        else:\n",
    "            join = data.iloc[start:end].T.iloc[2:, :]\n",
    "            join.columns = trans_data.columns\n",
    "            trans_data = pd.concat((trans_data, join))\n",
    "    \n",
    "    trans_data = trans_data.reset_index(drop=True)\n",
    "    trans_data.columns = data.iloc[0:18, 1].values\n",
    "    trans_data.RAINFALL[trans_data.RAINFALL == 'NR'] = '0'             #将不下雨定义为降水量0\n",
    "    \n",
    "    for name in trans_data.columns:\n",
    "        trans_data[name] = trans_data[name].astype(np.float32)\n",
    "    \n",
    "    #将数据变形，由于测试集中用前9个时间段来预测当前时间的pm2.5值，所以将前9个时间段的各个特征数据全部作为特征列\n",
    "    #由于训练集给的是每个月的前20天的24个小时，即第480行与第481行数据的观察时间不是连续的，所以需要将每个月的数据分开拼接\n",
    "    size = 480\n",
    "    for sub in range(12):\n",
    "        start = sub * size\n",
    "        end = min(start + size, trans_data.shape[0])\n",
    "        sub_data = trans_data.iloc[start:end, :]           #每个月的数据是一个单独的sub_data\n",
    "        \n",
    "        for i in range(9, 480):\n",
    "            b = sub_data.iloc[i,:]\n",
    "            \n",
    "            for j in range(9):\n",
    "                c = sub_data.iloc[i-j, :]\n",
    "                b = pd.concat((b, c))\n",
    "            b = pd.DataFrame(b).T\n",
    "            \n",
    "            if i == 9:\n",
    "                a = b\n",
    "            else:\n",
    "                a = pd.concat((a, b))\n",
    "        \n",
    "        if sub == 0:\n",
    "            new_data = a\n",
    "        else:\n",
    "            new_data = pd.concat((new_data, a))\n",
    "    new_data = new_data.reset_index(drop = True)\n",
    "    \n",
    "    col = list(range(18, 180))\n",
    "    col.append(9)\n",
    "    new_data = new_data.iloc[:, col]                #将当前时间的PM2.5数值作为label， 其他信息删除\n",
    "    \n",
    "    print('data_shape = ' + str(new_data.shape))\n",
    "    return new_data"
   ]
  },
  {
   "cell_type": "code",
   "execution_count": 6,
   "metadata": {},
   "outputs": [],
   "source": [
    "train, test = load_data()"
   ]
  },
  {
   "cell_type": "code",
   "execution_count": 4,
   "metadata": {},
   "outputs": [
    {
     "name": "stdout",
     "output_type": "stream",
     "text": [
      "data_shape = (5652, 163)\n"
     ]
    }
   ],
   "source": [
    "train = train_transform(train)\n",
    "train.to_csv('D:/WorkSpace/HomeWork/hw1/train_data.csv', index = False)"
   ]
  },
  {
   "cell_type": "code",
   "execution_count": 33,
   "metadata": {},
   "outputs": [],
   "source": [
    "def test_transform(data):\n",
    "    for i in range(240):\n",
    "        start = i*18\n",
    "        end = start+18\n",
    "        if i == 0:\n",
    "            trans_data = data.iloc[start:end, :].T.iloc[2:, :]\n",
    "        else:\n",
    "            join = data.iloc[start:end].T.iloc[2:, :]\n",
    "            join.columns = trans_data.columns\n",
    "            trans_data = pd.concat((trans_data, join))\n",
    "    return trans_data"
   ]
  },
  {
   "cell_type": "code",
   "execution_count": 35,
   "metadata": {},
   "outputs": [],
   "source": [
    "test = test_transform(test)"
   ]
  },
  {
   "cell_type": "code",
   "execution_count": null,
   "metadata": {},
   "outputs": [],
   "source": []
  }
 ],
 "metadata": {
  "kernelspec": {
   "display_name": "Python 3",
   "language": "python",
   "name": "python3"
  },
  "language_info": {
   "codemirror_mode": {
    "name": "ipython",
    "version": 3
   },
   "file_extension": ".py",
   "mimetype": "text/x-python",
   "name": "python",
   "nbconvert_exporter": "python",
   "pygments_lexer": "ipython3",
   "version": "3.6.8"
  }
 },
 "nbformat": 4,
 "nbformat_minor": 2
}
