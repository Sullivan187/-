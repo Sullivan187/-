{
 "cells": [
  {
   "cell_type": "code",
   "execution_count": 40,
   "metadata": {},
   "outputs": [],
   "source": [
    "import pandas as pd\n",
    "import numpy as np\n",
    "from sklearn.model_selection import train_test_split\n",
    "from sklearn.linear_model import LinearRegression"
   ]
  },
  {
   "cell_type": "code",
   "execution_count": 18,
   "metadata": {},
   "outputs": [],
   "source": [
    "X = pd.read_csv('D:\\\\WorkSpace\\\\HomeWork\\\\hw1\\\\train_x.csv').values\n",
    "Y = pd.read_csv('D:\\\\WorkSpace\\\\HomeWork\\\\hw1\\\\train_y.csv').values\n",
    "data = pd.read_csv('D:\\\\WorkSpace\\\\HomeWork\\\\hw1\\\\test_x.csv')"
   ]
  },
  {
   "cell_type": "code",
   "execution_count": 19,
   "metadata": {},
   "outputs": [
    {
     "name": "stdout",
     "output_type": "stream",
     "text": [
      "(4521, 162)\n",
      "(4521, 1)\n",
      "(1131, 162)\n",
      "(1131, 1)\n"
     ]
    }
   ],
   "source": [
    "train_x, test_x, train_y, test_y = train_test_split(X, Y, test_size = 0.2)\n",
    "print(train_x.shape)\n",
    "print(train_y.shape)\n",
    "print(test_x.shape)\n",
    "print(test_y.shape)\n",
    "del X, Y"
   ]
  },
  {
   "cell_type": "code",
   "execution_count": 2,
   "metadata": {},
   "outputs": [],
   "source": [
    "def normalize_data(dataset):\n",
    "    for i in range(dataset.shape[1]):\n",
    "        mean = np.mean(dataset[:,i], axis = 0)\n",
    "        sd = np.std(dataset[:,i], axis = 0)\n",
    "        dataset[:,i] = (dataset[:,i] - mean)/sd\n",
    "    return dataset"
   ]
  },
  {
   "cell_type": "code",
   "execution_count": 78,
   "metadata": {},
   "outputs": [],
   "source": [
    "def lm(X, Y, iters = 100, learning_rate = 0.1, norm = False):\n",
    "    m, n = X.shape\n",
    "    \n",
    "    if norm == True:\n",
    "        X = normalize_data(X)\n",
    "    \n",
    "    #初始化参数\n",
    "    w = np.random.randn(n, 1) * 0.1\n",
    "    b = np.zeros((1, 1), np.float32)\n",
    "    dw_prev = 0.\n",
    "    db_prev = 0.\n",
    "    \n",
    "    for i in range(iters):\n",
    "        \n",
    "        #决策函数\n",
    "        pred = np.dot(X, w) + b\n",
    "        #定义误差\n",
    "        loss = np.mean((Y-pred)**2)/2\n",
    "        #计算梯度\n",
    "        dw = np.dot(X.T, pred-Y)/m\n",
    "        db = np.array([[np.mean(pred-Y)]])\n",
    "        assert(dw.shape == w.shape)\n",
    "        assert(db.shape == b.shape)\n",
    "        \n",
    "        #学习率衰减\n",
    "        learning_rate = learning_rate\n",
    "        \n",
    "        #参数更新\n",
    "        dw = 0.9 * dw_prev + dw * 0.1\n",
    "        db = 0.9 * db_prev + db * 0.1\n",
    "        dw_prev = dw\n",
    "        db_prev = db\n",
    "        w -= (dw * learning_rate)\n",
    "        b -= (db * learning_rate)\n",
    "        \n",
    "    print('iters: ' + str(i) + '\\t' + 'loss = ' + str(loss))\n",
    "    return w, b"
   ]
  },
  {
   "cell_type": "code",
   "execution_count": 80,
   "metadata": {},
   "outputs": [],
   "source": [
    "def predict(X, model):\n",
    "    w, b = model\n",
    "    pred = np.dot(X, w) + b\n",
    "    return pred\n",
    "\n",
    "def loss_calculation(Y, pred):\n",
    "    loss = np.mean(np.square(pred - Y))/2\n",
    "    return loss"
   ]
  },
  {
   "cell_type": "code",
   "execution_count": 79,
   "metadata": {},
   "outputs": [
    {
     "name": "stdout",
     "output_type": "stream",
     "text": [
      "iters: 0\tloss = 353.986228581\n",
      "iters: 1000\tloss = 18.8672096126\n",
      "iters: 2000\tloss = 17.5486071408\n",
      "iters: 3000\tloss = 17.1057219111\n",
      "iters: 4000\tloss = 16.9093463341\n"
     ]
    }
   ],
   "source": [
    "model = lm(train_x[:, :90], train_y, iters = 5000, learning_rate = 0.01, norm = True)\n",
    "pred = predict(test_x[:, :90], model)\n",
    "loss = loss_calculation(test_y, pred)\n",
    "print(loss)"
   ]
  }
 ],
 "metadata": {
  "kernelspec": {
   "display_name": "Python 3",
   "language": "python",
   "name": "python3"
  },
  "language_info": {
   "codemirror_mode": {
    "name": "ipython",
    "version": 3
   },
   "file_extension": ".py",
   "mimetype": "text/x-python",
   "name": "python",
   "nbconvert_exporter": "python",
   "pygments_lexer": "ipython3",
   "version": "3.6.8"
  }
 },
 "nbformat": 4,
 "nbformat_minor": 2
}
